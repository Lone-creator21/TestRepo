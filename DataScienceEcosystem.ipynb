{
 "cells": [
  {
   "cell_type": "markdown",
   "id": "cd4cf1de-6b97-49d7-949e-751dd072f773",
   "metadata": {},
   "source": [
    "# Data Science Tools and Ecosystem"
   ]
  },
  {
   "cell_type": "markdown",
   "id": "3a79a70e-ace4-449b-bfdc-091f7ca4c0b9",
   "metadata": {},
   "source": [
    "In this notebook, Data Science Tools and Ecosystem are summarized."
   ]
  },
  {
   "cell_type": "markdown",
   "id": "adfccebf-b024-4862-acfe-0b1be551094e",
   "metadata": {},
   "source": [
    "**Objective :**\n",
    "\n",
    "* List of Popular Languages for Data Science.\n",
    "* List of Commonly Used Libraries for Data Science.\n",
    "* List of Data Science Tools.\n",
    "* Sample of Arithmetic Expressions."
   ]
  },
  {
   "cell_type": "markdown",
   "id": "45cf187c-e86e-4a93-af18-563856c29bce",
   "metadata": {},
   "source": [
    "Some of the popular languages that Data Scientists use are:\n",
    "\n",
    "1. Python\n",
    "2. R\n",
    "3. SQL\n",
    "4. Scala\n",
    "5. JAVA\n",
    "6. Julia\n",
    "7. C++"
   ]
  },
  {
   "cell_type": "markdown",
   "id": "698d9cce-e1fd-464f-a43e-2a0df5a2fdd8",
   "metadata": {},
   "source": [
    "Some of the commonly used libraries used by Data Scientists include:\n",
    "\n",
    "1. Pandas\n",
    "2. Numpy\n",
    "3. Matplotlib\n",
    "4. Seaborn\n",
    "5. Scikit-learn\n",
    "6. Tensorflow"
   ]
  },
  {
   "cell_type": "markdown",
   "id": "f5a8dce8-bc7c-48ea-9341-2ed1ac6a1c2b",
   "metadata": {},
   "source": [
    "| Data Science Tools |\n",
    "| ------------------ |\n",
    "| Anaconda |\n",
    "| Jupyter Notebook |\n",
    "| Git |\n",
    "| Tableu |\n",
    "| R Studio |"
   ]
  },
  {
   "cell_type": "markdown",
   "id": "4a78ab43-9ae4-49b4-be1c-d43792c26a0d",
   "metadata": {},
   "source": [
    "### Below are a few examples of evaluating arithmetic expressions in Python"
   ]
  },
  {
   "cell_type": "code",
   "execution_count": 3,
   "id": "24e434dd-a677-430d-ab00-2a7900765459",
   "metadata": {},
   "outputs": [
    {
     "data": {
      "text/plain": [
       "17"
      ]
     },
     "execution_count": 3,
     "metadata": {},
     "output_type": "execute_result"
    }
   ],
   "source": [
    "# This a simple arithmetic expression to mutiply then add integers\n",
    "(3*4)+5"
   ]
  },
  {
   "cell_type": "code",
   "execution_count": 4,
   "id": "ca700bbc-2365-40de-833e-53d026cb7beb",
   "metadata": {},
   "outputs": [
    {
     "data": {
      "text/plain": [
       "3.3333333333333335"
      ]
     },
     "execution_count": 4,
     "metadata": {},
     "output_type": "execute_result"
    }
   ],
   "source": [
    "# This will convert 200 minutes to hours by diving by 60\n",
    "200/60"
   ]
  },
  {
   "cell_type": "markdown",
   "id": "79e52843-324e-41a4-b97c-b85f44d8d8be",
   "metadata": {},
   "source": [
    "## Author\n",
    "Ryan R. Alincastre"
   ]
  },
  {
   "cell_type": "code",
   "execution_count": null,
   "id": "18fdf7e8-c747-4024-a12f-272d35da1ec3",
   "metadata": {},
   "outputs": [],
   "source": []
  }
 ],
 "metadata": {
  "kernelspec": {
   "display_name": "Python 3 (ipykernel)",
   "language": "python",
   "name": "python3"
  },
  "language_info": {
   "codemirror_mode": {
    "name": "ipython",
    "version": 3
   },
   "file_extension": ".py",
   "mimetype": "text/x-python",
   "name": "python",
   "nbconvert_exporter": "python",
   "pygments_lexer": "ipython3",
   "version": "3.12.7"
  }
 },
 "nbformat": 4,
 "nbformat_minor": 5
}
